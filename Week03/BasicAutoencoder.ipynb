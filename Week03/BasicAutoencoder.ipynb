{
  "nbformat": 4,
  "nbformat_minor": 0,
  "metadata": {
    "colab": {
      "provenance": [],
      "authorship_tag": "ABX9TyN0104iIOlDpNJjp0hpLzjb",
      "include_colab_link": true
    },
    "kernelspec": {
      "name": "python3",
      "display_name": "Python 3"
    },
    "language_info": {
      "name": "python"
    }
  },
  "cells": [
    {
      "cell_type": "markdown",
      "metadata": {
        "id": "view-in-github",
        "colab_type": "text"
      },
      "source": [
        "<a href=\"https://colab.research.google.com/github/MAOK-Yongsuk/One-Project-per-week-Challenge/blob/main/Week03/BasicAutoencoder.ipynb\" target=\"_parent\"><img src=\"https://colab.research.google.com/assets/colab-badge.svg\" alt=\"Open In Colab\"/></a>"
      ]
    },
    {
      "cell_type": "code",
      "execution_count": 1,
      "metadata": {
        "id": "7gvVAb7SZr6w"
      },
      "outputs": [],
      "source": [
        "import numpy as np\n",
        "import matplotlib.pyplot as plt\n",
        "from tensorflow.keras.datasets import fashion_mnist"
      ]
    },
    {
      "cell_type": "markdown",
      "source": [
        "## Data preprocessing"
      ],
      "metadata": {
        "id": "JUIZo467veX7"
      }
    },
    {
      "cell_type": "code",
      "source": [
        "(X_train, _), (X_test, _) = fashion_mnist.load_data()"
      ],
      "metadata": {
        "colab": {
          "base_uri": "https://localhost:8080/"
        },
        "id": "2G9ZNd-Gc8Po",
        "outputId": "c187d936-6e0e-4d01-d480-db94cb2d2568"
      },
      "execution_count": 2,
      "outputs": [
        {
          "output_type": "stream",
          "name": "stdout",
          "text": [
            "Downloading data from https://storage.googleapis.com/tensorflow/tf-keras-datasets/train-labels-idx1-ubyte.gz\n",
            "29515/29515 [==============================] - 0s 0us/step\n",
            "Downloading data from https://storage.googleapis.com/tensorflow/tf-keras-datasets/train-images-idx3-ubyte.gz\n",
            "26421880/26421880 [==============================] - 2s 0us/step\n",
            "Downloading data from https://storage.googleapis.com/tensorflow/tf-keras-datasets/t10k-labels-idx1-ubyte.gz\n",
            "5148/5148 [==============================] - 0s 0us/step\n",
            "Downloading data from https://storage.googleapis.com/tensorflow/tf-keras-datasets/t10k-images-idx3-ubyte.gz\n",
            "4422102/4422102 [==============================] - 0s 0us/step\n"
          ]
        }
      ]
    },
    {
      "cell_type": "code",
      "source": [
        "X_train.shape, X_test.shape"
      ],
      "metadata": {
        "colab": {
          "base_uri": "https://localhost:8080/"
        },
        "id": "K2w0zcPPc8Mz",
        "outputId": "e220217e-f0ba-4257-e89c-2f1ebd8ce896"
      },
      "execution_count": 3,
      "outputs": [
        {
          "output_type": "execute_result",
          "data": {
            "text/plain": [
              "((60000, 28, 28), (10000, 28, 28))"
            ]
          },
          "metadata": {},
          "execution_count": 3
        }
      ]
    },
    {
      "cell_type": "code",
      "source": [
        "X_train[0][:, 7:20]"
      ],
      "metadata": {
        "colab": {
          "base_uri": "https://localhost:8080/"
        },
        "id": "KLvonWASc8J9",
        "outputId": "1a115512-41cf-4c6c-fa8d-7263ddc783e8"
      },
      "execution_count": 8,
      "outputs": [
        {
          "output_type": "execute_result",
          "data": {
            "text/plain": [
              "array([[  0,   0,   0,   0,   0,   0,   0,   0,   0,   0,   0,   0,   0],\n",
              "       [  0,   0,   0,   0,   0,   0,   0,   0,   0,   0,   0,   0,   0],\n",
              "       [  0,   0,   0,   0,   0,   0,   0,   0,   0,   0,   0,   0,   0],\n",
              "       [  0,   0,   0,   0,   0,   1,   0,   0,  13,  73,   0,   0,   1],\n",
              "       [  0,   0,   0,   0,   0,   3,   0,  36, 136, 127,  62,  54,   0],\n",
              "       [  0,   0,   0,   0,   0,   6,   0, 102, 204, 176, 134, 144, 123],\n",
              "       [  0,   0,   0,   0,   0,   0,   0, 155, 236, 207, 178, 107, 156],\n",
              "       [  0,   0,   0,   0,   1,   0,  69, 207, 223, 218, 216, 216, 163],\n",
              "       [  0,   0,   1,   1,   1,   0, 200, 232, 232, 233, 229, 223, 223],\n",
              "       [  0,   0,   0,   0,   0,   0, 183, 225, 216, 223, 228, 235, 227],\n",
              "       [  0,   0,   0,   0,   0,   0, 193, 228, 218, 213, 198, 180, 212],\n",
              "       [  0,   0,   1,   3,   0,  12, 219, 220, 212, 218, 192, 169, 227],\n",
              "       [  0,   0,   0,   6,   0,  99, 244, 222, 220, 218, 203, 198, 221],\n",
              "       [  0,   0,   4,   0,   0,  55, 236, 228, 230, 228, 240, 232, 213],\n",
              "       [  0,   0,   0,   0,   0, 237, 226, 217, 223, 222, 219, 222, 221],\n",
              "       [  0,   0,  62, 145, 204, 228, 207, 213, 221, 218, 208, 211, 218],\n",
              "       [107, 189, 228, 220, 222, 217, 226, 200, 205, 211, 230, 224, 234],\n",
              "       [208, 204, 214, 208, 209, 200, 159, 245, 193, 206, 223, 255, 255],\n",
              "       [214, 205, 205, 205, 220, 240,  80, 150, 255, 229, 221, 188, 154],\n",
              "       [234, 249, 220, 194, 215, 217, 241,  65,  73, 106, 117, 168, 219],\n",
              "       [225, 216, 185, 197, 206, 198, 213, 240, 195, 227, 245, 239, 223],\n",
              "       [190, 194, 192, 202, 214, 219, 221, 220, 236, 225, 216, 199, 206],\n",
              "       [196, 204, 210, 213, 207, 211, 210, 200, 196, 194, 191, 195, 191],\n",
              "       [172, 175, 181, 185, 188, 189, 188, 193, 198, 204, 209, 210, 210],\n",
              "       [237, 239, 242, 246, 243, 244, 221, 220, 193, 191, 179, 182, 182],\n",
              "       [ 40,  61,  44,  72,  41,  35,   0,   0,   0,   0,   0,   0,   0],\n",
              "       [  0,   0,   0,   0,   0,   0,   0,   0,   0,   0,   0,   0,   0],\n",
              "       [  0,   0,   0,   0,   0,   0,   0,   0,   0,   0,   0,   0,   0]],\n",
              "      dtype=uint8)"
            ]
          },
          "metadata": {},
          "execution_count": 8
        }
      ]
    },
    {
      "cell_type": "code",
      "source": [
        "img = X_train[1]\n",
        "plt.imshow(img, cmap=plt.cm.gray_r)\n",
        "plt.show()"
      ],
      "metadata": {
        "colab": {
          "base_uri": "https://localhost:8080/",
          "height": 265
        },
        "id": "tdplBOH5c8G6",
        "outputId": "0d40ac5f-c1ed-42c9-e6e0-c6da9d5c518f"
      },
      "execution_count": 9,
      "outputs": [
        {
          "output_type": "display_data",
          "data": {
            "text/plain": [
              "<Figure size 432x288 with 1 Axes>"
            ],
            "image/png": "[encoded data removed]"
          },
          "metadata": {
            "needs_background": "light"
          }
        }
      ]
    },
    {
      "cell_type": "code",
      "source": [
        "X_train = X_train/255.0\n",
        "X_test = X_test/255.0"
      ],
      "metadata": {
        "id": "Ptwnu0lcc8EK"
      },
      "execution_count": 10,
      "outputs": []
    },
    {
      "cell_type": "markdown",
      "source": [
        "## Model"
      ],
      "metadata": {
        "id": "nXIDXKVxvVg1"
      }
    },
    {
      "cell_type": "code",
      "source": [
        "from tensorflow.keras.layers import Dense, Flatten, Reshape\n",
        "from tensorflow.keras import Model, Sequential\n",
        "\n",
        "encoding_dim = 36\n",
        "\n",
        "class Autoencoder(Model):\n",
        "  def __init__(self, encoding_dim):\n",
        "    super(Autoencoder, self).__init__()\n",
        "    self.encoding_dim = encoding_dim\n",
        "\n",
        "    self.encoder = Sequential([\n",
        "        # InputLayer(input_shape=(28,28)),\n",
        "        Flatten(),\n",
        "        Dense(encoding_dim, activation = 'relu'),\n",
        "    ])\n",
        "\n",
        "    self.decoder = Sequential ([\n",
        "        Dense(784, activation = 'sigmoid'),\n",
        "        Reshape((28,28)),\n",
        "    ]) \n",
        "\n",
        "\n",
        "  def call(self, x):\n",
        "    encoded = self.encoder(x)  \n",
        "    decoded = self.decoder(encoded)\n",
        "    return decoded\n",
        "\n",
        "autoencoder = Autoencoder(encoding_dim)   \n",
        "\n",
        "autoencoder.compile(optimizer='adam', loss='binary_crossentropy')\n",
        "autoencoder.fit(X_train, X_train, epochs=20, batch_size=256,validation_data=(X_test, X_test))"
      ],
      "metadata": {
        "colab": {
          "base_uri": "https://localhost:8080/"
        },
        "id": "XhQxoFuzc8BY",
        "outputId": "3f583edc-af1c-4462-d27a-323d3c62419d"
      },
      "execution_count": 11,
      "outputs": [
        {
          "output_type": "stream",
          "name": "stdout",
          "text": [
            "Epoch 1/20\n",
            "235/235 [==============================] - 4s 14ms/step - loss: 0.4159 - val_loss: 0.3446\n",
            "Epoch 2/20\n",
            "235/235 [==============================] - 3s 12ms/step - loss: 0.3283 - val_loss: 0.3189\n",
            "Epoch 3/20\n",
            "235/235 [==============================] - 3s 12ms/step - loss: 0.3110 - val_loss: 0.3078\n",
            "Epoch 4/20\n",
            "235/235 [==============================] - 3s 12ms/step - loss: 0.3020 - val_loss: 0.3006\n",
            "Epoch 5/20\n",
            "235/235 [==============================] - 3s 13ms/step - loss: 0.2953 - val_loss: 0.2950\n",
            "Epoch 6/20\n",
            "235/235 [==============================] - 3s 12ms/step - loss: 0.2909 - val_loss: 0.2916\n",
            "Epoch 7/20\n",
            "235/235 [==============================] - 3s 12ms/step - loss: 0.2883 - val_loss: 0.2897\n",
            "Epoch 8/20\n",
            "235/235 [==============================] - 3s 12ms/step - loss: 0.2866 - val_loss: 0.2881\n",
            "Epoch 9/20\n",
            "235/235 [==============================] - 3s 13ms/step - loss: 0.2854 - val_loss: 0.2872\n",
            "Epoch 10/20\n",
            "235/235 [==============================] - 4s 18ms/step - loss: 0.2846 - val_loss: 0.2866\n",
            "Epoch 11/20\n",
            "235/235 [==============================] - 3s 12ms/step - loss: 0.2839 - val_loss: 0.2859\n",
            "Epoch 12/20\n",
            "235/235 [==============================] - 3s 12ms/step - loss: 0.2835 - val_loss: 0.2855\n",
            "Epoch 13/20\n",
            "235/235 [==============================] - 3s 12ms/step - loss: 0.2831 - val_loss: 0.2852\n",
            "Epoch 14/20\n",
            "235/235 [==============================] - 3s 12ms/step - loss: 0.2827 - val_loss: 0.2849\n",
            "Epoch 15/20\n",
            "235/235 [==============================] - 3s 12ms/step - loss: 0.2825 - val_loss: 0.2848\n",
            "Epoch 16/20\n",
            "235/235 [==============================] - 3s 13ms/step - loss: 0.2823 - val_loss: 0.2845\n",
            "Epoch 17/20\n",
            "235/235 [==============================] - 3s 12ms/step - loss: 0.2821 - val_loss: 0.2842\n",
            "Epoch 18/20\n",
            "235/235 [==============================] - 3s 13ms/step - loss: 0.2819 - val_loss: 0.2841\n",
            "Epoch 19/20\n",
            "235/235 [==============================] - 3s 13ms/step - loss: 0.2818 - val_loss: 0.2839\n",
            "Epoch 20/20\n",
            "235/235 [==============================] - 3s 12ms/step - loss: 0.2815 - val_loss: 0.2835\n"
          ]
        },
        {
          "output_type": "execute_result",
          "data": {
            "text/plain": [
              "<keras.callbacks.History at 0x7f0d94254940>"
            ]
          },
          "metadata": {},
          "execution_count": 11
        }
      ]
    },
    {
      "cell_type": "code",
      "source": [
        "autoencoder.encoder.summary()"
      ],
      "metadata": {
        "colab": {
          "base_uri": "https://localhost:8080/"
        },
        "id": "mW7yK3i7c7-Y",
        "outputId": "1b90f5b6-d755-495f-f357-2e15bcc8f99e"
      },
      "execution_count": 12,
      "outputs": [
        {
          "output_type": "stream",
          "name": "stdout",
          "text": [
            "Model: \"sequential\"\n",
            "_________________________________________________________________\n",
            " Layer (type)                Output Shape              Param #   \n",
            "=================================================================\n",
            " flatten (Flatten)           (None, 784)               0         \n",
            "                                                                 \n",
            " dense (Dense)               (None, 36)                28260     \n",
            "                                                                 \n",
            "=================================================================\n",
            "Total params: 28,260\n",
            "Trainable params: 28,260\n",
            "Non-trainable params: 0\n",
            "_________________________________________________________________\n"
          ]
        }
      ]
    },
    {
      "cell_type": "code",
      "source": [
        "autoencoder.decoder.summary()"
      ],
      "metadata": {
        "colab": {
          "base_uri": "https://localhost:8080/"
        },
        "id": "3Nl05pqCc77S",
        "outputId": "76ee1199-7120-41d8-828b-de34495e2b60"
      },
      "execution_count": 13,
      "outputs": [
        {
          "output_type": "stream",
          "name": "stdout",
          "text": [
            "Model: \"sequential_1\"\n",
            "_________________________________________________________________\n",
            " Layer (type)                Output Shape              Param #   \n",
            "=================================================================\n",
            " dense_1 (Dense)             (None, 784)               29008     \n",
            "                                                                 \n",
            " reshape (Reshape)           (None, 28, 28)            0         \n",
            "                                                                 \n",
            "=================================================================\n",
            "Total params: 29,008\n",
            "Trainable params: 29,008\n",
            "Non-trainable params: 0\n",
            "_________________________________________________________________\n"
          ]
        }
      ]
    },
    {
      "cell_type": "markdown",
      "source": [
        "## Prediction"
      ],
      "metadata": {
        "id": "_Zxrb8t5vpZy"
      }
    },
    {
      "cell_type": "code",
      "source": [
        "encoded_imgs = autoencoder.encoder(X_test).numpy()\n",
        "print(encoded_imgs.shape)"
      ],
      "metadata": {
        "colab": {
          "base_uri": "https://localhost:8080/"
        },
        "id": "TAEOTEuEc74S",
        "outputId": "97ef98a7-46d5-4a7f-8d72-3ef7b62f92d5"
      },
      "execution_count": 14,
      "outputs": [
        {
          "output_type": "stream",
          "name": "stdout",
          "text": [
            "(10000, 36)\n"
          ]
        }
      ]
    },
    {
      "cell_type": "code",
      "source": [
        "decoded_imgs = autoencoder.decoder(encoded_imgs).numpy()\n",
        "decoded_imgs.shape"
      ],
      "metadata": {
        "colab": {
          "base_uri": "https://localhost:8080/"
        },
        "id": "i9_oCuMoc7xJ",
        "outputId": "36d4ae85-31ba-451e-a044-0c7bdbb10ef9"
      },
      "execution_count": 16,
      "outputs": [
        {
          "output_type": "execute_result",
          "data": {
            "text/plain": [
              "(10000, 28, 28)"
            ]
          },
          "metadata": {},
          "execution_count": 16
        }
      ]
    },
    {
      "cell_type": "code",
      "source": [
        "img_index = 1\n",
        "\n",
        "fig = plt.figure(figsize=(10, 10))\n",
        "fig.add_subplot(1, 2, 1)\n",
        "plt.imshow(encoded_imgs[img_index].reshape(6,6), cmap=plt.cm.gray_r)\n",
        "fig.add_subplot(1, 2, 2)\n",
        "plt.imshow(decoded_imgs[img_index], cmap=plt.cm.gray_r)\n",
        "plt.show()"
      ],
      "metadata": {
        "colab": {
          "base_uri": "https://localhost:8080/",
          "height": 302
        },
        "id": "_7OFJZov1LUt",
        "outputId": "6ded4031-7b2f-4cd1-bdb3-0560fe69dcf7"
      },
      "execution_count": 32,
      "outputs": [
        {
          "output_type": "display_data",
          "data": {
            "text/plain": [
              "<Figure size 720x720 with 2 Axes>"
            ],
            "image/png": "[encoded data removed]"
          },
          "metadata": {
            "needs_background": "light"
          }
        }
      ]
    },
    {
      "cell_type": "code",
      "source": [],
      "metadata": {
        "id": "FVRxbPV70GvU"
      },
      "execution_count": null,
      "outputs": []
    }
  ]
}